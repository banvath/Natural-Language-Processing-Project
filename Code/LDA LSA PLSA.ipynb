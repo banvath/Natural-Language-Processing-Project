{
 "cells": [
  {
   "cell_type": "code",
   "execution_count": 1,
   "metadata": {},
   "outputs": [],
   "source": [
    "import pandas as pd\n",
    "import nltk\n",
    "from nltk.corpus import stopwords \n",
    "from nltk.stem.wordnet import WordNetLemmatizer\n",
    "import string\n",
    "import gensim\n",
    "from gensim import corpora, models\n",
    "import pandas as pd\n",
    "from nltk import FreqDist\n",
    "import re\n",
    "import spacy\n",
    "import numpy as np\n",
    "# libraries for visualization\n",
    "import pyLDAvis\n",
    "import pyLDAvis.gensim\n",
    "import matplotlib.pyplot as plt\n",
    "import seaborn as sns\n",
    "%matplotlib inline"
   ]
  },
  {
   "cell_type": "code",
   "execution_count": 2,
   "metadata": {},
   "outputs": [
    {
     "name": "stderr",
     "output_type": "stream",
     "text": [
      "[nltk_data] Downloading package stopwords to\n",
      "[nltk_data]     C:\\Users\\banva\\AppData\\Roaming\\nltk_data...\n",
      "[nltk_data]   Package stopwords is already up-to-date!\n"
     ]
    },
    {
     "data": {
      "text/plain": [
       "True"
      ]
     },
     "execution_count": 2,
     "metadata": {},
     "output_type": "execute_result"
    }
   ],
   "source": [
    "nltk.download('stopwords')\n",
    " # one time run"
   ]
  },
  {
   "cell_type": "code",
   "execution_count": 3,
   "metadata": {},
   "outputs": [],
   "source": [
    "#!python -m spacy download en\n",
    "import en_core_web_sm\n",
    "nlp = en_core_web_sm.load()"
   ]
  },
  {
   "cell_type": "code",
   "execution_count": 4,
   "metadata": {},
   "outputs": [],
   "source": [
    "reviews = [\"I love it. I was looking for a small Dewalt Li. Charger. This one is good for tight spaces or over the wall, and its very efficient charging the batteries.The battery included was a little bit larger than the ones i already have so i had to remove the metal hanger from the drill in order to use the new batte So far no problems, preform as expected. good deal to save your 18 volt tools worked well and easy Works great except with my finish nail gun. Easy to use and a great way to extend the life of the older generation tools. The 20v conversion kit is a great price and value. The new smaller battery is lighter and not as bulky as the 18v batteries. I am so happy that I changed over. The vault see only time I buy the best Worth the cost nice to have a conversion from the old batteries and reuse the original tools. Very pricy, they are making a ton of money on these batteries. I love my speaker so much awesome bass system it\\'s exactly what I want Although I have an older corded circular saw, when we began our house remodeling I decided that I wanted to get a cordless saw to use for making quick cuts, be it boards, panels, or trim. I liked the idea of having the saw available whenever or wherever I needed it, without having to worry about stringing out the extension cord, especially for a quick cut or two. Already having several batteries and being a fan of DeWalt, I took a look at their offerings and purchased the DCS391B 20V MAX 6-1/2&quot; Saw. I have been using the saw now for 6 months and I have been extremely pleased with its performance. The saw is lightweight, which I have found makes it much easier to control, especially for long cuts on plywood panels. Although the saw is quiet, it has plenty of power to handle whatever cuts I\\'ve needed, from trim pieces to framing lumber and even trimming off the bottoms of wood doors with ease. The shape of the grip handle with its rubber covering is comfortable, while the power trigger safety and trigger switch are both easy to operate. The depth of blade and bevel adj\"]"
   ]
  },
  {
   "cell_type": "code",
   "execution_count": 5,
   "metadata": {},
   "outputs": [
    {
     "data": {
      "text/plain": [
       "[\"I love it. I was looking for a small Dewalt Li. Charger. This one is good for tight spaces or over the wall, and its very efficient charging the batteries.The battery included was a little bit larger than the ones i already have so i had to remove the metal hanger from the drill in order to use the new batte So far no problems, preform as expected. good deal to save your 18 volt tools worked well and easy Works great except with my finish nail gun. Easy to use and a great way to extend the life of the older generation tools. The 20v conversion kit is a great price and value. The new smaller battery is lighter and not as bulky as the 18v batteries. I am so happy that I changed over. The vault see only time I buy the best Worth the cost nice to have a conversion from the old batteries and reuse the original tools. Very pricy, they are making a ton of money on these batteries. I love my speaker so much awesome bass system it's exactly what I want Although I have an older corded circular saw, when we began our house remodeling I decided that I wanted to get a cordless saw to use for making quick cuts, be it boards, panels, or trim. I liked the idea of having the saw available whenever or wherever I needed it, without having to worry about stringing out the extension cord, especially for a quick cut or two. Already having several batteries and being a fan of DeWalt, I took a look at their offerings and purchased the DCS391B 20V MAX 6-1/2&quot; Saw. I have been using the saw now for 6 months and I have been extremely pleased with its performance. The saw is lightweight, which I have found makes it much easier to control, especially for long cuts on plywood panels. Although the saw is quiet, it has plenty of power to handle whatever cuts I've needed, from trim pieces to framing lumber and even trimming off the bottoms of wood doors with ease. The shape of the grip handle with its rubber covering is comfortable, while the power trigger safety and trigger switch are both easy to operate. The depth of blade and bevel adj\"]"
      ]
     },
     "execution_count": 5,
     "metadata": {},
     "output_type": "execute_result"
    }
   ],
   "source": [
    "reviews"
   ]
  },
  {
   "cell_type": "code",
   "execution_count": 6,
   "metadata": {},
   "outputs": [],
   "source": [
    "df= pd.DataFrame(reviews,columns=['reviews'] )"
   ]
  },
  {
   "cell_type": "code",
   "execution_count": 24,
   "metadata": {},
   "outputs": [
    {
     "data": {
      "text/plain": [
       "0    love looking small Dewalt Charger. This good t...\n",
       "Name: reviews, dtype: object"
      ]
     },
     "execution_count": 24,
     "metadata": {},
     "output_type": "execute_result"
    }
   ],
   "source": [
    "df['reviews']"
   ]
  },
  {
   "cell_type": "code",
   "execution_count": 8,
   "metadata": {},
   "outputs": [],
   "source": [
    "# function to plot most frequent terms\n",
    "def freq_words(x, terms = 30):\n",
    "    all_words = ' '.join([text for text in x])\n",
    "    all_words = all_words.split()\n",
    "\n",
    "    fdist = FreqDist(all_words)\n",
    "    words_df = pd.DataFrame({'word':list(fdist.keys()), 'count':list(fdist.values())})\n",
    "\n",
    "    # selecting top 20 most frequent words\n",
    "    d = words_df.nlargest(columns=\"count\", n = terms) \n",
    "    plt.figure(figsize=(20,5))\n",
    "    ax = sns.barplot(data=d, x= \"word\", y = \"count\")\n",
    "    ax.set(ylabel = 'Count')\n",
    "    plt.show()"
   ]
  },
  {
   "cell_type": "code",
   "execution_count": 9,
   "metadata": {},
   "outputs": [],
   "source": [
    "stop_words = stopwords.words('english')\n"
   ]
  },
  {
   "cell_type": "code",
   "execution_count": 10,
   "metadata": {},
   "outputs": [],
   "source": [
    "# function to remove stopwords\n",
    "def remove_stopwords(rev):\n",
    "    rev_new = \" \".join([i for i in rev if i not in stop_words])\n",
    "    return rev_new"
   ]
  },
  {
   "cell_type": "code",
   "execution_count": 14,
   "metadata": {},
   "outputs": [],
   "source": [
    "# remove short words (length < 4)\n",
    "df['reviews'] = df['reviews'].apply(lambda x: ' '.join([w for w in x.split() if len(w)>3]))"
   ]
  },
  {
   "cell_type": "code",
   "execution_count": 15,
   "metadata": {},
   "outputs": [
    {
     "data": {
      "text/plain": [
       "0    love looking small Dewalt Charger. This good t...\n",
       "Name: reviews, dtype: object"
      ]
     },
     "execution_count": 15,
     "metadata": {},
     "output_type": "execute_result"
    }
   ],
   "source": [
    "df['reviews']"
   ]
  },
  {
   "cell_type": "code",
   "execution_count": 16,
   "metadata": {},
   "outputs": [],
   "source": [
    "# remove stopwords from the text\n",
    "exp = [remove_stopwords(r.split()) for r in df['reviews']]"
   ]
  },
  {
   "cell_type": "code",
   "execution_count": 21,
   "metadata": {},
   "outputs": [
    {
     "data": {
      "text/plain": [
       "list"
      ]
     },
     "execution_count": 21,
     "metadata": {},
     "output_type": "execute_result"
    }
   ],
   "source": [
    "type(exp)"
   ]
  },
  {
   "cell_type": "code",
   "execution_count": 19,
   "metadata": {},
   "outputs": [
    {
     "data": {
      "image/png": "[encoded data removed]",
      "text/plain": [
       "<Figure size 1440x360 with 1 Axes>"
      ]
     },
     "metadata": {
      "needs_background": "light"
     },
     "output_type": "display_data"
    }
   ],
   "source": [
    "freq_words(exp,2)"
   ]
  },
  {
   "cell_type": "code",
   "execution_count": 23,
   "metadata": {},
   "outputs": [
    {
     "name": "stdout",
     "output_type": "stream",
     "text": [
      "0    [love, looking, small, Dewalt, Charger., This,...\n",
      "dtype: object\n",
      "[['love', 'look', 'space', 'wall', 'charge', 'battery', 'battery', 'include', 'one', 'remove', 'metal', 'drill', 'order', 'batte', 'problem', 'preform', 'expect', 'deal', 'save', 'volt', 'tool', 'work', 'work', 'finish', 'nail', 'gun', 'extend', 'life', 'generation', 'tool', 'conversion', 'price', 'value', 'battery', 'bulky', 'battery', 'change', 'time', 'cost', 'conversion', 'battery', 'reuse', 'tool', 'pricy', 'make', 'money', 'battery', 'love', 'speaker', 'bass', 'system', 'want', 'cord', 'circular', 'saw', 'begin', 'house', 'remodeling', 'decide', 'want', 'cordless', 'make', 'cut', 'board', 'panel', 'trim', 'idea', 'need', 'worry', 'string', 'extension', 'cord', 'battery', 'take', 'look', 'offering', 'purchase', 'use', 'month', 'performance', 'find', 'make', 'control', 'cut', 'plywood', 'panel', 'power', 'handle', 'cut', 'need', 'trim', 'piece', 'frame', 'lumber', 'trim', 'bottom', 'wood', 'door', 'ease', 'handle', 'rubber', 'covering', 'power', 'trigger', 'trigger', 'switch', 'operate', 'depth', 'blade']]\n"
     ]
    }
   ],
   "source": [
    "# lemmatization\n",
    "\n",
    "import en_core_web_sm\n",
    "nlp = en_core_web_sm.load(disable=['parser', 'ner'])\n",
    "\n",
    "\n",
    "def lemmatization(texts, tags=[ 'NOUN','ADJECTIVE','VERB']): # use verbs, adjectives and nouns \n",
    "    output = []\n",
    "    for sent in texts:\n",
    "        doc = nlp(\" \".join(sent)) \n",
    "        output.append([token.lemma_ for token in doc if token.pos_ in tags])\n",
    "    return output\n",
    "\n",
    "tokenized_reviews = pd.Series(exp).apply(lambda x: x.split())\n",
    "print(tokenized_reviews)\n",
    "\n",
    "# delete most common words, such as relating the to product's name\n",
    "#def delete_product_name(token_list):\n",
    " #   return [x for x in token_list if x not in ['kindle','fire','amazon', 'device', 'tablet', 'book', 'thing']]\n",
    "#tokenized_reviews = tokenized_reviews.apply(delete_product_name)\n",
    "\n",
    "reviews_2 = lemmatization(tokenized_reviews)\n",
    "print(reviews_2) # print lemmatized review"
   ]
  },
  {
   "cell_type": "code",
   "execution_count": 25,
   "metadata": {},
   "outputs": [
    {
     "data": {
      "text/plain": [
       "[['love',\n",
       "  'look',\n",
       "  'space',\n",
       "  'wall',\n",
       "  'charge',\n",
       "  'battery',\n",
       "  'battery',\n",
       "  'include',\n",
       "  'one',\n",
       "  'remove',\n",
       "  'metal',\n",
       "  'drill',\n",
       "  'order',\n",
       "  'batte',\n",
       "  'problem',\n",
       "  'preform',\n",
       "  'expect',\n",
       "  'deal',\n",
       "  'save',\n",
       "  'volt',\n",
       "  'tool',\n",
       "  'work',\n",
       "  'work',\n",
       "  'finish',\n",
       "  'nail',\n",
       "  'gun',\n",
       "  'extend',\n",
       "  'life',\n",
       "  'generation',\n",
       "  'tool',\n",
       "  'conversion',\n",
       "  'price',\n",
       "  'value',\n",
       "  'battery',\n",
       "  'bulky',\n",
       "  'battery',\n",
       "  'change',\n",
       "  'time',\n",
       "  'cost',\n",
       "  'conversion',\n",
       "  'battery',\n",
       "  'reuse',\n",
       "  'tool',\n",
       "  'pricy',\n",
       "  'make',\n",
       "  'money',\n",
       "  'battery',\n",
       "  'love',\n",
       "  'speaker',\n",
       "  'bass',\n",
       "  'system',\n",
       "  'want',\n",
       "  'cord',\n",
       "  'circular',\n",
       "  'saw',\n",
       "  'begin',\n",
       "  'house',\n",
       "  'remodeling',\n",
       "  'decide',\n",
       "  'want',\n",
       "  'cordless',\n",
       "  'make',\n",
       "  'cut',\n",
       "  'board',\n",
       "  'panel',\n",
       "  'trim',\n",
       "  'idea',\n",
       "  'need',\n",
       "  'worry',\n",
       "  'string',\n",
       "  'extension',\n",
       "  'cord',\n",
       "  'battery',\n",
       "  'take',\n",
       "  'look',\n",
       "  'offering',\n",
       "  'purchase',\n",
       "  'use',\n",
       "  'month',\n",
       "  'performance',\n",
       "  'find',\n",
       "  'make',\n",
       "  'control',\n",
       "  'cut',\n",
       "  'plywood',\n",
       "  'panel',\n",
       "  'power',\n",
       "  'handle',\n",
       "  'cut',\n",
       "  'need',\n",
       "  'trim',\n",
       "  'piece',\n",
       "  'frame',\n",
       "  'lumber',\n",
       "  'trim',\n",
       "  'bottom',\n",
       "  'wood',\n",
       "  'door',\n",
       "  'ease',\n",
       "  'handle',\n",
       "  'rubber',\n",
       "  'covering',\n",
       "  'power',\n",
       "  'trigger',\n",
       "  'trigger',\n",
       "  'switch',\n",
       "  'operate',\n",
       "  'depth',\n",
       "  'blade']]"
      ]
     },
     "execution_count": 25,
     "metadata": {},
     "output_type": "execute_result"
    }
   ],
   "source": [
    "[x for x in reviews_2 if x not in stop_words]"
   ]
  },
  {
   "cell_type": "code",
   "execution_count": 34,
   "metadata": {
    "scrolled": true
   },
   "outputs": [
    {
     "data": {
      "image/png": "[encoded data removed]",
      "text/plain": [
       "<Figure size 1440x360 with 1 Axes>"
      ]
     },
     "metadata": {
      "needs_background": "light"
     },
     "output_type": "display_data"
    }
   ],
   "source": [
    "# replace review column with the cleaned version\n",
    "reviews_3 = []\n",
    "for i in range(len(reviews_2)):\n",
    "    reviews_3.append(' '.join(reviews_2[i]))\n",
    "\n",
    "df['reviews'] = reviews_3\n",
    "\n",
    "# Visualize\n",
    "freq_words(df['reviews'], 2)"
   ]
  },
  {
   "cell_type": "markdown",
   "metadata": {},
   "source": [
    "### Modelling"
   ]
  },
  {
   "cell_type": "markdown",
   "metadata": {},
   "source": [
    "### LDA"
   ]
  },
  {
   "cell_type": "code",
   "execution_count": 35,
   "metadata": {},
   "outputs": [
    {
     "data": {
      "image/png": "[encoded data removed]",
      "text/plain": [
       "<Figure size 432x288 with 1 Axes>"
      ]
     },
     "metadata": {
      "needs_background": "light"
     },
     "output_type": "display_data"
    }
   ],
   "source": [
    "from gensim.models.coherencemodel import CoherenceModel\n",
    "dictionary = corpora.Dictionary(reviews_2)\n",
    "doc_term_matrix = [dictionary.doc2bow(rev) for rev in reviews_2]\n",
    "# Creating the object for LDA model using gensim library\n",
    "LDA = gensim.models.ldamodel.LdaModel\n",
    "\n",
    "# check coherence score to decide number of topics \n",
    "c_v_score = []\n",
    "for i in range(2,11):\n",
    "    lda_model = LDA(corpus = doc_term_matrix, id2word = dictionary, num_topics = i, random_state = 44,\n",
    "                chunksize = 1000, passes = 50)\n",
    "    c_v_score.append(CoherenceModel(model=lda_model, texts=reviews_2, dictionary=dictionary, coherence='c_v').get_coherence())\n",
    "\n",
    "# plot the score\n",
    "# plot the coherence score\n",
    "x = range(2, 11)\n",
    "plt.plot(x, c_v_score)\n",
    "plt.xlabel(\"Number of Topics\")\n",
    "plt.ylabel(\"Coherence score\")\n",
    "plt.legend((\"coherence_values\"), loc='best')\n",
    "plt.show()"
   ]
  },
  {
   "cell_type": "code",
   "execution_count": 36,
   "metadata": {},
   "outputs": [],
   "source": [
    "# train the model on optimal number of topics \n",
    "lda_model = LDA(corpus = doc_term_matrix, id2word = dictionary, num_topics = c_v_score.index(max(c_v_score))+1, random_state = 44,\n",
    "                chunksize = 1000, passes = 50)"
   ]
  },
  {
   "cell_type": "code",
   "execution_count": 37,
   "metadata": {},
   "outputs": [
    {
     "data": {
      "text/plain": [
       "[(0,\n",
       "  '0.012*\"operate\" + 0.012*\"generation\" + 0.012*\"decide\" + 0.012*\"problem\" + 0.012*\"string\" + 0.012*\"cost\" + 0.012*\"batte\" + 0.012*\"space\" + 0.012*\"speaker\" + 0.012*\"bass\"'),\n",
       " (1,\n",
       "  '0.012*\"battery\" + 0.012*\"make\" + 0.012*\"tool\" + 0.012*\"trim\" + 0.012*\"conversion\" + 0.012*\"cost\" + 0.012*\"cord\" + 0.012*\"panel\" + 0.012*\"need\" + 0.012*\"cut\"'),\n",
       " (2,\n",
       "  '0.012*\"battery\" + 0.012*\"trim\" + 0.012*\"cut\" + 0.012*\"work\" + 0.012*\"power\" + 0.012*\"make\" + 0.012*\"want\" + 0.012*\"cord\" + 0.012*\"trigger\" + 0.012*\"tool\"'),\n",
       " (3,\n",
       "  '0.057*\"battery\" + 0.025*\"cut\" + 0.025*\"trim\" + 0.025*\"tool\" + 0.025*\"make\" + 0.017*\"love\" + 0.017*\"panel\" + 0.017*\"look\" + 0.017*\"conversion\" + 0.017*\"cord\"'),\n",
       " (4,\n",
       "  '0.012*\"battery\" + 0.012*\"cut\" + 0.012*\"make\" + 0.012*\"trim\" + 0.012*\"conversion\" + 0.012*\"tool\" + 0.012*\"reuse\" + 0.012*\"handle\" + 0.012*\"expect\" + 0.012*\"trigger\"')]"
      ]
     },
     "execution_count": 37,
     "metadata": {},
     "output_type": "execute_result"
    }
   ],
   "source": [
    "# get the topics\n",
    "lda_model.print_topics()"
   ]
  },
  {
   "cell_type": "code",
   "execution_count": 30,
   "metadata": {},
   "outputs": [
    {
     "name": "stderr",
     "output_type": "stream",
     "text": [
      "C:\\Users\\banva\\Anaconda3\\lib\\site-packages\\pyLDAvis\\_prepare.py:257: FutureWarning: Sorting because non-concatenation axis is not aligned. A future version\n",
      "of pandas will change to not sort by default.\n",
      "\n",
      "To accept the future behavior, pass 'sort=False'.\n",
      "\n",
      "To retain the current behavior and silence the warning, pass 'sort=True'.\n",
      "\n",
      "  return pd.concat([default_term_info] + list(topic_dfs))\n"
     ]
    },
    {
     "data": {
      "text/html": [
       "\n",
       "<link rel=\"stylesheet\" type=\"text/css\" href=\"https://cdn.rawgit.com/bmabey/pyLDAvis/files/ldavis.v1.0.0.css\">\n",
       "\n",
       "\n",
       "<div id=\"ldavis_el334761807219322216762484463\"></div>\n",
       "<script type=\"text/javascript\">\n",
       "\n",
       "var ldavis_el334761807219322216762484463_data = {\"mdsDat\": {\"x\": [-0.016385058313773796, 0.00409632325163448, 0.004096168652225348, 0.004096170514861221, 0.004096395895052749], \"y\": [-0.0, 0.0, -0.0, -0.0, -0.0], \"topics\": [1, 2, 3, 4, 5], \"cluster\": [1, 1, 1, 1, 1], \"Freq\": [99.27200317382812, 0.18200024962425232, 0.18200024962425232, 0.18200021982192993, 0.18200021982192993]}, \"tinfo\": {\"Category\": [\"Default\", \"Default\", \"Default\", \"Default\", \"Default\", \"Default\", \"Default\", \"Default\", \"Default\", \"Default\", \"Default\", \"Default\", \"Default\", \"Default\", \"Default\", \"Default\", \"Default\", \"Default\", \"Default\", \"Default\", \"Default\", \"Default\", \"Default\", \"Default\", \"Default\", \"Default\", \"Default\", \"Default\", \"Default\", \"Default\", \"Topic1\", \"Topic1\", \"Topic1\", \"Topic1\", \"Topic1\", \"Topic1\", \"Topic1\", \"Topic1\", \"Topic1\", \"Topic1\", \"Topic1\", \"Topic1\", \"Topic1\", \"Topic1\", \"Topic1\", \"Topic1\", \"Topic1\", \"Topic1\", \"Topic1\", \"Topic1\", \"Topic1\", \"Topic1\", \"Topic1\", \"Topic1\", \"Topic1\", \"Topic1\", \"Topic1\", \"Topic1\", \"Topic1\", \"Topic1\", \"Topic1\", \"Topic1\", \"Topic1\", \"Topic1\", \"Topic1\", \"Topic1\", \"Topic1\", \"Topic2\", \"Topic2\", \"Topic2\", \"Topic2\", \"Topic2\", \"Topic2\", \"Topic2\", \"Topic2\", \"Topic2\", \"Topic2\", \"Topic2\", \"Topic2\", \"Topic2\", \"Topic2\", \"Topic2\", \"Topic2\", \"Topic2\", \"Topic2\", \"Topic2\", \"Topic2\", \"Topic2\", \"Topic2\", \"Topic2\", \"Topic2\", \"Topic2\", \"Topic2\", \"Topic2\", \"Topic2\", \"Topic2\", \"Topic2\", \"Topic2\", \"Topic2\", \"Topic2\", \"Topic2\", \"Topic2\", \"Topic2\", \"Topic2\", \"Topic2\", \"Topic2\", \"Topic2\", \"Topic2\", \"Topic2\", \"Topic2\", \"Topic2\", \"Topic2\", \"Topic2\", \"Topic2\", \"Topic2\", \"Topic3\", \"Topic3\", \"Topic3\", \"Topic3\", \"Topic3\", \"Topic3\", \"Topic3\", \"Topic3\", \"Topic3\", \"Topic3\", \"Topic3\", \"Topic3\", \"Topic3\", \"Topic3\", \"Topic3\", \"Topic3\", \"Topic3\", \"Topic3\", \"Topic3\", \"Topic3\", \"Topic3\", \"Topic3\", \"Topic3\", \"Topic3\", \"Topic3\", \"Topic3\", \"Topic3\", \"Topic3\", \"Topic3\", \"Topic3\", \"Topic3\", \"Topic3\", \"Topic3\", \"Topic3\", \"Topic3\", \"Topic3\", \"Topic3\", \"Topic3\", \"Topic3\", \"Topic3\", \"Topic3\", \"Topic3\", \"Topic3\", \"Topic3\", \"Topic3\", \"Topic3\", \"Topic3\", \"Topic3\", \"Topic3\", \"Topic3\", \"Topic3\", \"Topic3\", \"Topic3\", \"Topic3\", \"Topic3\", \"Topic3\", \"Topic3\", \"Topic3\", \"Topic3\", \"Topic3\", \"Topic3\", \"Topic3\", \"Topic3\", \"Topic3\", \"Topic3\", \"Topic3\", \"Topic4\", \"Topic4\", \"Topic4\", \"Topic4\", \"Topic4\", \"Topic4\", \"Topic4\", \"Topic4\", \"Topic4\", \"Topic4\", \"Topic4\", \"Topic4\", \"Topic4\", \"Topic4\", \"Topic4\", \"Topic4\", \"Topic4\", \"Topic4\", \"Topic4\", \"Topic4\", \"Topic4\", \"Topic4\", \"Topic4\", \"Topic4\", \"Topic4\", \"Topic4\", \"Topic4\", \"Topic4\", \"Topic4\", \"Topic4\", \"Topic4\", \"Topic4\", \"Topic4\", \"Topic4\", \"Topic4\", \"Topic4\", \"Topic4\", \"Topic4\", \"Topic4\", \"Topic4\", \"Topic4\", \"Topic4\", \"Topic4\", \"Topic4\", \"Topic4\", \"Topic4\", \"Topic4\", \"Topic4\", \"Topic4\", \"Topic4\", \"Topic4\", \"Topic4\", \"Topic4\", \"Topic4\", \"Topic4\", \"Topic4\", \"Topic4\", \"Topic4\", \"Topic4\", \"Topic4\", \"Topic4\", \"Topic4\", \"Topic4\", \"Topic4\", \"Topic4\", \"Topic4\", \"Topic4\", \"Topic4\", \"Topic4\", \"Topic4\", \"Topic5\", \"Topic5\", \"Topic5\", \"Topic5\", \"Topic5\", \"Topic5\", \"Topic5\", \"Topic5\", \"Topic5\", \"Topic5\", \"Topic5\", \"Topic5\", \"Topic5\", \"Topic5\", \"Topic5\", \"Topic5\", \"Topic5\", \"Topic5\", \"Topic5\", \"Topic5\", \"Topic5\", \"Topic5\", \"Topic5\", \"Topic5\", \"Topic5\", \"Topic5\", \"Topic5\", \"Topic5\", \"Topic5\", \"Topic5\", \"Topic5\", \"Topic5\", \"Topic5\", \"Topic5\", \"Topic5\", \"Topic5\", \"Topic5\", \"Topic5\", \"Topic5\", \"Topic5\", \"Topic5\", \"Topic5\", \"Topic5\", \"Topic5\", \"Topic5\", \"Topic5\", \"Topic5\", \"Topic5\", \"Topic5\", \"Topic5\", \"Topic5\", \"Topic5\", \"Topic5\", \"Topic5\", \"Topic5\", \"Topic5\", \"Topic5\", \"Topic5\", \"Topic5\"], \"Freq\": [6.0, 2.0, 2.0, 2.0, 2.0, 1.0, 1.0, 1.0, 1.0, 1.0, 1.0, 1.0, 1.0, 1.0, 1.0, 1.0, 1.0, 1.0, 1.0, 1.0, 1.0, 1.0, 1.0, 1.0, 1.0, 1.0, 1.0, 1.0, 1.0, 1.0, 6.193155288696289, 2.7525017261505127, 2.7525014877319336, 2.7525014877319336, 2.7525014877319336, 1.892337679862976, 1.8923372030258179, 1.892337679862976, 1.8923372030258179, 1.8923372030258179, 1.8923372030258179, 1.8923372030258179, 1.8923372030258179, 1.8923369646072388, 1.8923372030258179, 1.892337679862976, 1.0321707725524902, 1.0321706533432007, 1.0321707725524902, 1.0321705341339111, 1.0321705341339111, 1.0321705341339111, 1.0321705341339111, 1.0321705341339111, 1.0321707725524902, 1.0321705341339111, 1.0321706533432007, 1.0321707725524902, 1.0321705341339111, 1.0321707725524902, 1.0321707725524902, 1.0321706533432007, 1.0321707725524902, 1.0321707725524902, 1.0321707725524902, 1.0321707725524902, 1.0321706533432007, 0.002361670834943652, 0.002361670834943652, 0.002361670369282365, 0.0023616706021130085, 0.002361670136451721, 0.0023616706021130085, 0.002361670136451721, 0.002361670369282365, 0.002361670136451721, 0.002361670136451721, 0.0023616699036210775, 0.0023616699036210775, 0.0023616699036210775, 0.0023616699036210775, 0.0023616699036210775, 0.0023616699036210775, 0.0023616699036210775, 0.0023616699036210775, 0.0023616699036210775, 0.0023616699036210775, 0.002361670136451721, 0.0023616699036210775, 0.0023616699036210775, 0.0023616699036210775, 0.0023616699036210775, 0.0023616699036210775, 0.0023616699036210775, 0.0023616699036210775, 0.0023616694379597902, 0.002361669670790434, 0.0023616699036210775, 0.002361669670790434, 0.002361669670790434, 0.0023616699036210775, 0.0023616699036210775, 0.0023616699036210775, 0.002361669670790434, 0.002361669670790434, 0.002361669670790434, 0.002361684339120984, 0.002361672930419445, 0.0023616719990968704, 0.0023616717662662268, 0.002361670834943652, 0.0023616717662662268, 0.002361671533435583, 0.0023616706021130085, 0.0023616699036210775, 0.0023616717662662268, 0.002361670834943652, 0.002361670369282365, 0.002361670369282365, 0.0023616699036210775, 0.0023616699036210775, 0.0023616699036210775, 0.0023616699036210775, 0.002361669670790434, 0.0023616694379597902, 0.0023616694379597902, 0.002361669670790434, 0.0023616694379597902, 0.0023616699036210775, 0.002361669670790434, 0.002361669670790434, 0.0023616694379597902, 0.0023616694379597902, 0.0023616692051291466, 0.0023616694379597902, 0.0023616692051291466, 0.0023616692051291466, 0.0023616692051291466, 0.0023616694379597902, 0.0023616694379597902, 0.0023616692051291466, 0.002361668972298503, 0.002361669670790434, 0.002361668972298503, 0.0023616692051291466, 0.0023616692051291466, 0.002361668972298503, 0.002361668972298503, 0.002361668972298503, 0.002361668972298503, 0.002361668972298503, 0.0023616687394678593, 0.002361668972298503, 0.0023616687394678593, 0.0023616687394678593, 0.002361668972298503, 0.0023616687394678593, 0.0023616687394678593, 0.0023616685066372156, 0.0023616685066372156, 0.002361668273806572, 0.002361668273806572, 0.002361668273806572, 0.002361668273806572, 0.002361668273806572, 0.002361668273806572, 0.0023616922553628683, 0.0023616815451532602, 0.00236167898401618, 0.002361677121371031, 0.0023616724647581577, 0.002361670834943652, 0.002361671067774296, 0.002361671533435583, 0.0023616717662662268, 0.0023616717662662268, 0.002361670136451721, 0.002361670136451721, 0.002361670369282365, 0.002361670369282365, 0.0023616706021130085, 0.002361670369282365, 0.0023616699036210775, 0.0023616699036210775, 0.0023616694379597902, 0.0023616692051291466, 0.0023616692051291466, 0.0023616692051291466, 0.0023616692051291466, 0.0023616692051291466, 0.0023616694379597902, 0.0023616699036210775, 0.0023616692051291466, 0.0023616692051291466, 0.0023616692051291466, 0.0023616694379597902, 0.0023616694379597902, 0.002361669670790434, 0.0023616692051291466, 0.0023616692051291466, 0.0023616692051291466, 0.0023616692051291466, 0.0023616692051291466, 0.002361669670790434, 0.0023616692051291466, 0.0023616692051291466, 0.0023616692051291466, 0.0023616692051291466, 0.0023616692051291466, 0.0023616692051291466, 0.0023616692051291466, 0.0023616692051291466, 0.0023616692051291466, 0.0023616692051291466, 0.002361668972298503, 0.002361668972298503, 0.0023616687394678593, 0.0023616692051291466, 0.0023616692051291466, 0.002361668972298503, 0.0023616685066372156, 0.0023616687394678593, 0.002361668972298503, 0.0023616685066372156, 0.002361668972298503, 0.0023616687394678593, 0.0023616685066372156, 0.0023616685066372156, 0.002361668273806572, 0.0023616685066372156, 0.002361668273806572, 0.002361668273806572, 0.002361668273806572, 0.0023616678081452847, 0.002361668273806572, 0.002361668273806572, 0.002361668273806572, 0.002361699938774109, 0.002361676190048456, 0.0023616752587258816, 0.0023616731632500887, 0.002361672930419445, 0.0023616717662662268, 0.0023616717662662268, 0.002361672231927514, 0.0023616724647581577, 0.002361670834943652, 0.002361671533435583, 0.002361669670790434, 0.002361670136451721, 0.002361668972298503, 0.002361670136451721, 0.002361670136451721, 0.002361670136451721, 0.002361670136451721, 0.002361670136451721, 0.002361670369282365, 0.002361670136451721, 0.002361670369282365, 0.002361670136451721, 0.002361670136451721, 0.0023616699036210775, 0.0023616699036210775, 0.0023616699036210775, 0.002361670136451721, 0.0023616699036210775, 0.0023616699036210775, 0.0023616699036210775, 0.0023616699036210775, 0.0023616699036210775, 0.0023616699036210775, 0.0023616699036210775, 0.0023616699036210775, 0.0023616699036210775, 0.0023616699036210775, 0.0023616699036210775, 0.0023616699036210775, 0.0023616699036210775, 0.002361670369282365, 0.002361670369282365, 0.0023616699036210775, 0.0023616699036210775, 0.0023616699036210775, 0.0023616699036210775, 0.0023616699036210775, 0.0023616699036210775, 0.0023616699036210775, 0.0023616699036210775, 0.0023616699036210775, 0.0023616699036210775, 0.002361670136451721, 0.0023616699036210775, 0.002361670136451721, 0.0023616699036210775, 0.0023616699036210775, 0.0023616699036210775, 0.0023616699036210775, 0.002361669670790434, 0.0023616699036210775, 0.0023616699036210775, 0.002361669670790434, 0.002361669670790434, 0.0023616699036210775, 0.0023616699036210775, 0.002361669670790434, 0.0023616694379597902, 0.0023616699036210775, 0.0023616699036210775, 0.002361669670790434, 0.002361669670790434], \"Term\": [\"battery\", \"make\", \"trim\", \"tool\", \"cut\", \"conversion\", \"trigger\", \"want\", \"panel\", \"love\", \"work\", \"cord\", \"need\", \"look\", \"handle\", \"power\", \"rubber\", \"one\", \"take\", \"string\", \"generation\", \"reuse\", \"include\", \"finish\", \"offering\", \"worry\", \"extend\", \"ease\", \"drill\", \"problem\", \"battery\", \"cut\", \"make\", \"trim\", \"tool\", \"look\", \"handle\", \"panel\", \"cord\", \"conversion\", \"need\", \"power\", \"trigger\", \"work\", \"want\", \"love\", \"house\", \"ease\", \"generation\", \"frame\", \"idea\", \"finish\", \"find\", \"extension\", \"extend\", \"expect\", \"gun\", \"worry\", \"drill\", \"charge\", \"month\", \"nail\", \"life\", \"include\", \"offering\", \"covering\", \"cordless\", \"reuse\", \"expect\", \"door\", \"money\", \"bass\", \"nail\", \"extension\", \"ease\", \"pricy\", \"wood\", \"lumber\", \"piece\", \"preform\", \"switch\", \"circular\", \"decide\", \"deal\", \"cordless\", \"speaker\", \"finish\", \"change\", \"plywood\", \"operate\", \"remodeling\", \"depth\", \"bottom\", \"extend\", \"worry\", \"use\", \"saw\", \"one\", \"save\", \"gun\", \"house\", \"covering\", \"wall\", \"system\", \"time\", \"order\", \"battery\", \"cut\", \"make\", \"trim\", \"handle\", \"conversion\", \"tool\", \"need\", \"work\", \"cost\", \"finish\", \"drill\", \"find\", \"preform\", \"operate\", \"gun\", \"depth\", \"decide\", \"deal\", \"frame\", \"lumber\", \"idea\", \"bulky\", \"blade\", \"use\", \"switch\", \"circular\", \"space\", \"save\", \"control\", \"batte\", \"wood\", \"performance\", \"wall\", \"purchase\", \"door\", \"take\", \"piece\", \"metal\", \"string\", \"extension\", \"rubber\", \"saw\", \"order\", \"covering\", \"plywood\", \"board\", \"cordless\", \"month\", \"worry\", \"extend\", \"charge\", \"include\", \"offering\", \"generation\", \"life\", \"money\", \"house\", \"expect\", \"nail\", \"battery\", \"make\", \"tool\", \"trim\", \"conversion\", \"work\", \"cut\", \"need\", \"cord\", \"panel\", \"power\", \"handle\", \"look\", \"love\", \"want\", \"bass\", \"idea\", \"begin\", \"speaker\", \"extension\", \"finish\", \"frame\", \"door\", \"deal\", \"money\", \"offering\", \"circular\", \"piece\", \"drill\", \"space\", \"plywood\", \"ease\", \"batte\", \"blade\", \"use\", \"switch\", \"remove\", \"value\", \"purchase\", \"expect\", \"control\", \"pricy\", \"problem\", \"one\", \"life\", \"system\", \"saw\", \"time\", \"nail\", \"change\", \"wood\", \"rubber\", \"include\", \"remodeling\", \"find\", \"performance\", \"cordless\", \"operate\", \"extend\", \"save\", \"generation\", \"bottom\", \"lumber\", \"bulky\", \"depth\", \"preform\", \"take\", \"house\", \"gun\", \"charge\", \"month\", \"battery\", \"trim\", \"cut\", \"work\", \"power\", \"cord\", \"trigger\", \"want\", \"make\", \"love\", \"tool\", \"panel\", \"handle\", \"conversion\", \"bass\", \"frame\", \"batte\", \"cost\", \"finish\", \"operate\", \"use\", \"decide\", \"space\", \"speaker\", \"preform\", \"control\", \"deal\", \"system\", \"expect\", \"extension\", \"blade\", \"idea\", \"wood\", \"pricy\", \"drill\", \"money\", \"lumber\", \"find\", \"piece\", \"plywood\", \"gun\", \"generation\", \"problem\", \"cordless\", \"switch\", \"remove\", \"remodeling\", \"save\", \"wall\", \"bulky\", \"house\", \"change\", \"life\", \"string\", \"volt\", \"board\", \"order\", \"nail\", \"depth\", \"include\", \"begin\", \"performance\", \"price\", \"extend\", \"bottom\", \"metal\", \"month\", \"ease\", \"door\", \"offering\", \"charge\", \"circular\", \"worry\"], \"Total\": [6.0, 2.0, 2.0, 2.0, 2.0, 1.0, 1.0, 1.0, 1.0, 1.0, 1.0, 1.0, 1.0, 1.0, 1.0, 1.0, 1.0, 1.0, 1.0, 1.0, 1.0, 1.0, 1.0, 1.0, 1.0, 1.0, 1.0, 1.0, 1.0, 1.0, 6.202602386474609, 2.761948823928833, 2.761948585510254, 2.761948585510254, 2.761948585510254, 1.9017843008041382, 1.90178382396698, 1.9017843008041382, 1.90178382396698, 1.90178382396698, 1.90178382396698, 1.90178382396698, 1.90178382396698, 1.9017835855484009, 1.90178382396698, 1.9017843008041382, 1.0416173934936523, 1.0416172742843628, 1.0416173934936523, 1.0416171550750732, 1.0416171550750732, 1.0416171550750732, 1.0416171550750732, 1.0416171550750732, 1.0416173934936523, 1.0416171550750732, 1.0416172742843628, 1.0416173934936523, 1.0416171550750732, 1.0416173934936523, 1.0416173934936523, 1.0416172742843628, 1.0416173934936523, 1.0416173934936523, 1.0416173934936523, 1.0416173934936523, 1.0416172742843628, 1.0416172742843628, 1.0416171550750732, 1.0416171550750732, 1.0416171550750732, 1.0416171550750732, 1.0416172742843628, 1.0416171550750732, 1.0416172742843628, 1.0416171550750732, 1.0416171550750732, 1.0416171550750732, 1.0416171550750732, 1.0416171550750732, 1.0416171550750732, 1.0416171550750732, 1.0416171550750732, 1.0416171550750732, 1.0416172742843628, 1.0416171550750732, 1.0416171550750732, 1.0416173934936523, 1.0416171550750732, 1.0416171550750732, 1.0416172742843628, 1.0416172742843628, 1.0416173934936523, 1.0416173934936523, 1.0416173934936523, 1.0416171550750732, 1.0416172742843628, 1.0416173934936523, 1.0416172742843628, 1.0416172742843628, 1.0416173934936523, 1.0416173934936523, 1.0416173934936523, 1.0416172742843628, 1.0416172742843628, 1.0416173934936523, 6.202602386474609, 2.761948823928833, 2.761948585510254, 2.761948585510254, 1.90178382396698, 1.90178382396698, 2.761948585510254, 1.90178382396698, 1.9017835855484009, 1.0416171550750732, 1.0416171550750732, 1.0416171550750732, 1.0416171550750732, 1.0416171550750732, 1.0416171550750732, 1.0416172742843628, 1.0416172742843628, 1.0416171550750732, 1.0416171550750732, 1.0416171550750732, 1.0416171550750732, 1.0416171550750732, 1.0416172742843628, 1.0416171550750732, 1.0416171550750732, 1.0416171550750732, 1.0416171550750732, 1.0416171550750732, 1.0416172742843628, 1.0416171550750732, 1.0416171550750732, 1.0416171550750732, 1.0416172742843628, 1.0416173934936523, 1.0416172742843628, 1.0416171550750732, 1.0416173934936523, 1.0416171550750732, 1.0416173934936523, 1.0416173934936523, 1.0416171550750732, 1.0416173934936523, 1.0416172742843628, 1.0416173934936523, 1.0416173934936523, 1.0416171550750732, 1.0416173934936523, 1.0416172742843628, 1.0416173934936523, 1.0416173934936523, 1.0416173934936523, 1.0416173934936523, 1.0416173934936523, 1.0416173934936523, 1.0416173934936523, 1.0416173934936523, 1.0416171550750732, 1.0416173934936523, 1.0416171550750732, 1.0416172742843628, 6.202602386474609, 2.761948585510254, 2.761948585510254, 2.761948585510254, 1.90178382396698, 1.9017835855484009, 2.761948823928833, 1.90178382396698, 1.90178382396698, 1.9017843008041382, 1.90178382396698, 1.90178382396698, 1.9017843008041382, 1.9017843008041382, 1.90178382396698, 1.0416171550750732, 1.0416171550750732, 1.0416172742843628, 1.0416171550750732, 1.0416171550750732, 1.0416171550750732, 1.0416171550750732, 1.0416171550750732, 1.0416171550750732, 1.0416171550750732, 1.0416173934936523, 1.0416171550750732, 1.0416171550750732, 1.0416171550750732, 1.0416171550750732, 1.0416171550750732, 1.0416172742843628, 1.0416171550750732, 1.0416171550750732, 1.0416171550750732, 1.0416171550750732, 1.0416172742843628, 1.0416173934936523, 1.0416172742843628, 1.0416171550750732, 1.0416171550750732, 1.0416171550750732, 1.0416173934936523, 1.0416173934936523, 1.0416173934936523, 1.0416172742843628, 1.0416172742843628, 1.0416172742843628, 1.0416172742843628, 1.0416173934936523, 1.0416171550750732, 1.0416173934936523, 1.0416173934936523, 1.0416172742843628, 1.0416171550750732, 1.0416172742843628, 1.0416172742843628, 1.0416171550750732, 1.0416173934936523, 1.0416172742843628, 1.0416173934936523, 1.0416173934936523, 1.0416171550750732, 1.0416172742843628, 1.0416172742843628, 1.0416171550750732, 1.0416173934936523, 1.0416173934936523, 1.0416172742843628, 1.0416173934936523, 1.0416173934936523, 6.202602386474609, 2.761948585510254, 2.761948823928833, 1.9017835855484009, 1.90178382396698, 1.90178382396698, 1.90178382396698, 1.90178382396698, 2.761948585510254, 1.9017843008041382, 2.761948585510254, 1.9017843008041382, 1.90178382396698, 1.90178382396698, 1.0416171550750732, 1.0416171550750732, 1.0416171550750732, 1.0416171550750732, 1.0416171550750732, 1.0416171550750732, 1.0416171550750732, 1.0416171550750732, 1.0416171550750732, 1.0416171550750732, 1.0416171550750732, 1.0416171550750732, 1.0416171550750732, 1.0416172742843628, 1.0416171550750732, 1.0416171550750732, 1.0416171550750732, 1.0416171550750732, 1.0416171550750732, 1.0416171550750732, 1.0416171550750732, 1.0416171550750732, 1.0416171550750732, 1.0416171550750732, 1.0416171550750732, 1.0416171550750732, 1.0416172742843628, 1.0416173934936523, 1.0416173934936523, 1.0416172742843628, 1.0416171550750732, 1.0416172742843628, 1.0416172742843628, 1.0416172742843628, 1.0416173934936523, 1.0416172742843628, 1.0416173934936523, 1.0416173934936523, 1.0416173934936523, 1.0416173934936523, 1.0416173934936523, 1.0416173934936523, 1.0416173934936523, 1.0416172742843628, 1.0416172742843628, 1.0416173934936523, 1.0416172742843628, 1.0416172742843628, 1.0416173934936523, 1.0416173934936523, 1.0416173934936523, 1.0416173934936523, 1.0416173934936523, 1.0416172742843628, 1.0416171550750732, 1.0416173934936523, 1.0416173934936523, 1.0416171550750732, 1.0416173934936523], \"loglift\": [30.0, 29.0, 28.0, 27.0, 26.0, 25.0, 24.0, 23.0, 22.0, 21.0, 20.0, 19.0, 18.0, 17.0, 16.0, 15.0, 14.0, 13.0, 12.0, 11.0, 10.0, 9.0, 8.0, 7.0, 6.0, 5.0, 4.0, 3.0, 2.0, 1.0, 0.005799999926239252, 0.0038999998942017555, 0.0038999998942017555, 0.0038999998942017555, 0.0038999998942017555, 0.002300000051036477, 0.002300000051036477, 0.002300000051036477, 0.002300000051036477, 0.002300000051036477, 0.002300000051036477, 0.002300000051036477, 0.002300000051036477, 0.002300000051036477, 0.002300000051036477, 0.002300000051036477, -0.0017999999690800905, -0.0017999999690800905, -0.0017999999690800905, -0.0017999999690800905, -0.0017999999690800905, -0.0017999999690800905, -0.0017999999690800905, -0.0017999999690800905, -0.0017999999690800905, -0.0017999999690800905, -0.0017999999690800905, -0.0017999999690800905, -0.0017999999690800905, -0.0017999999690800905, -0.0017999999690800905, -0.0017999999690800905, -0.0017999999690800905, -0.0017999999690800905, -0.0017999999690800905, -0.0017999999690800905, -0.0017999999690800905, 0.21979999542236328, 0.21979999542236328, 0.21979999542236328, 0.21979999542236328, 0.21979999542236328, 0.21979999542236328, 0.21979999542236328, 0.21979999542236328, 0.21979999542236328, 0.21979999542236328, 0.21979999542236328, 0.21979999542236328, 0.21979999542236328, 0.21979999542236328, 0.21979999542236328, 0.21979999542236328, 0.21979999542236328, 0.21979999542236328, 0.21979999542236328, 0.21979999542236328, 0.21979999542236328, 0.21979999542236328, 0.21979999542236328, 0.21979999542236328, 0.21979999542236328, 0.21979999542236328, 0.21979999542236328, 0.21979999542236328, 0.21979999542236328, 0.21979999542236328, 0.21979999542236328, 0.21979999542236328, 0.21979999542236328, 0.21979999542236328, 0.21979999542236328, 0.21979999542236328, 0.21979999542236328, 0.21979999542236328, 0.21979999542236328, -1.5643999576568604, -0.7554000020027161, -0.7554000020027161, -0.7554000020027161, -0.3822999894618988, -0.3822999894618988, -0.7554000020027161, -0.3822999894618988, -0.3822999894618988, 0.21979999542236328, 0.21979999542236328, 0.21979999542236328, 0.21979999542236328, 0.21979999542236328, 0.21979999542236328, 0.21979999542236328, 0.21979999542236328, 0.21979999542236328, 0.21979999542236328, 0.21979999542236328, 0.21979999542236328, 0.21979999542236328, 0.21979999542236328, 0.21979999542236328, 0.21979999542236328, 0.21979999542236328, 0.21979999542236328, 0.21979999542236328, 0.21979999542236328, 0.21979999542236328, 0.21979999542236328, 0.21979999542236328, 0.21979999542236328, 0.21979999542236328, 0.21979999542236328, 0.21979999542236328, 0.21979999542236328, 0.21979999542236328, 0.21979999542236328, 0.21979999542236328, 0.21979999542236328, 0.21979999542236328, 0.21979999542236328, 0.21979999542236328, 0.21979999542236328, 0.21979999542236328, 0.21979999542236328, 0.21979999542236328, 0.21979999542236328, 0.21979999542236328, 0.21979999542236328, 0.21979999542236328, 0.21979999542236328, 0.21979999542236328, 0.21979999542236328, 0.21979999542236328, 0.21979999542236328, 0.21979999542236328, 0.21979999542236328, 0.21979999542236328, -1.5643999576568604, -0.7554000020027161, -0.7554000020027161, -0.7554000020027161, -0.3822999894618988, -0.3822999894618988, -0.7554000020027161, -0.3822999894618988, -0.3822999894618988, -0.3822999894618988, -0.3822999894618988, -0.3822999894618988, -0.3822999894618988, -0.3822999894618988, -0.3822999894618988, 0.21979999542236328, 0.21979999542236328, 0.21979999542236328, 0.21979999542236328, 0.21979999542236328, 0.21979999542236328, 0.21979999542236328, 0.21979999542236328, 0.21979999542236328, 0.21979999542236328, 0.21979999542236328, 0.21979999542236328, 0.21979999542236328, 0.21979999542236328, 0.21979999542236328, 0.21979999542236328, 0.21979999542236328, 0.21979999542236328, 0.21979999542236328, 0.21979999542236328, 0.21979999542236328, 0.21979999542236328, 0.21979999542236328, 0.21979999542236328, 0.21979999542236328, 0.21979999542236328, 0.21979999542236328, 0.21979999542236328, 0.21979999542236328, 0.21979999542236328, 0.21979999542236328, 0.21979999542236328, 0.21979999542236328, 0.21979999542236328, 0.21979999542236328, 0.21979999542236328, 0.21979999542236328, 0.21979999542236328, 0.21979999542236328, 0.21979999542236328, 0.21979999542236328, 0.21979999542236328, 0.21979999542236328, 0.21979999542236328, 0.21979999542236328, 0.21979999542236328, 0.21979999542236328, 0.21979999542236328, 0.21979999542236328, 0.21979999542236328, 0.21979999542236328, 0.21979999542236328, 0.21979999542236328, 0.21979999542236328, 0.21979999542236328, 0.21979999542236328, -1.5643999576568604, -0.7554000020027161, -0.7554000020027161, -0.3822999894618988, -0.3822999894618988, -0.3822999894618988, -0.3822999894618988, -0.3822999894618988, -0.7554000020027161, -0.3822999894618988, -0.7554000020027161, -0.3822999894618988, -0.3822999894618988, -0.3822999894618988, 0.21979999542236328, 0.21979999542236328, 0.21979999542236328, 0.21979999542236328, 0.21979999542236328, 0.21979999542236328, 0.21979999542236328, 0.21979999542236328, 0.21979999542236328, 0.21979999542236328, 0.21979999542236328, 0.21979999542236328, 0.21979999542236328, 0.21979999542236328, 0.21979999542236328, 0.21979999542236328, 0.21979999542236328, 0.21979999542236328, 0.21979999542236328, 0.21979999542236328, 0.21979999542236328, 0.21979999542236328, 0.21979999542236328, 0.21979999542236328, 0.21979999542236328, 0.21979999542236328, 0.21979999542236328, 0.21979999542236328, 0.21979999542236328, 0.21979999542236328, 0.21979999542236328, 0.21979999542236328, 0.21979999542236328, 0.21979999542236328, 0.21979999542236328, 0.21979999542236328, 0.21979999542236328, 0.21979999542236328, 0.21979999542236328, 0.21979999542236328, 0.21979999542236328, 0.21979999542236328, 0.21979999542236328, 0.21979999542236328, 0.21979999542236328, 0.21979999542236328, 0.21979999542236328, 0.21979999542236328, 0.21979999542236328, 0.21979999542236328, 0.21979999542236328, 0.21979999542236328, 0.21979999542236328, 0.21979999542236328, 0.21979999542236328, 0.21979999542236328, 0.21979999542236328, 0.21979999542236328, 0.21979999542236328], \"logprob\": [30.0, 29.0, 28.0, 27.0, 26.0, 25.0, 24.0, 23.0, 22.0, 21.0, 20.0, 19.0, 18.0, 17.0, 16.0, 15.0, 14.0, 13.0, 12.0, 11.0, 10.0, 9.0, 8.0, 7.0, 6.0, 5.0, 4.0, 3.0, 2.0, 1.0, -2.860599994659424, -3.6714999675750732, -3.6714999675750732, -3.6714999675750732, -3.6714999675750732, -4.046199798583984, -4.046199798583984, -4.046199798583984, -4.046199798583984, -4.046199798583984, -4.046199798583984, -4.046199798583984, -4.046199798583984, -4.046199798583984, -4.046199798583984, -4.046199798583984, -4.652400016784668, -4.652400016784668, -4.652400016784668, -4.652400016784668, -4.652400016784668, -4.652400016784668, -4.652400016784668, -4.652400016784668, -4.652400016784668, -4.652400016784668, -4.652400016784668, -4.652400016784668, -4.652400016784668, -4.652400016784668, -4.652400016784668, -4.652400016784668, -4.652400016784668, -4.652400016784668, -4.652400016784668, -4.652400016784668, -4.652400016784668, -4.430799961090088, -4.430799961090088, -4.430799961090088, -4.430799961090088, -4.430799961090088, -4.430799961090088, -4.430799961090088, -4.430799961090088, -4.430799961090088, -4.430799961090088, -4.430799961090088, -4.430799961090088, -4.430799961090088, -4.430799961090088, -4.430799961090088, -4.430799961090088, -4.430799961090088, -4.430799961090088, -4.430799961090088, -4.430799961090088, -4.430799961090088, -4.430799961090088, -4.430799961090088, -4.430799961090088, -4.430799961090088, -4.430799961090088, -4.430799961090088, -4.430799961090088, -4.430799961090088, -4.430799961090088, -4.430799961090088, -4.430799961090088, -4.430799961090088, -4.430799961090088, -4.430799961090088, -4.430799961090088, -4.430799961090088, -4.430799961090088, -4.430799961090088, -4.430799961090088, -4.430799961090088, -4.430799961090088, -4.430799961090088, -4.430799961090088, -4.430799961090088, -4.430799961090088, -4.430799961090088, -4.430799961090088, -4.430799961090088, -4.430799961090088, -4.430799961090088, -4.430799961090088, -4.430799961090088, -4.430799961090088, -4.430799961090088, -4.430799961090088, -4.430799961090088, -4.430799961090088, -4.430799961090088, -4.430799961090088, -4.430799961090088, -4.430799961090088, -4.430799961090088, -4.430799961090088, -4.430799961090088, -4.430799961090088, -4.430799961090088, -4.430799961090088, -4.430799961090088, -4.430799961090088, -4.430799961090088, -4.430799961090088, -4.430799961090088, -4.430799961090088, -4.430799961090088, -4.430799961090088, -4.430799961090088, -4.430799961090088, -4.430799961090088, -4.430799961090088, -4.430799961090088, -4.430799961090088, -4.430799961090088, -4.430799961090088, -4.430799961090088, -4.430799961090088, -4.430799961090088, -4.430799961090088, -4.430799961090088, -4.430799961090088, -4.430799961090088, -4.430799961090088, -4.430799961090088, -4.430799961090088, -4.430799961090088, -4.430799961090088, -4.430799961090088, -4.430799961090088, -4.430799961090088, -4.430799961090088, -4.430799961090088, -4.430799961090088, -4.430799961090088, -4.430799961090088, -4.430799961090088, -4.430799961090088, -4.430799961090088, -4.430799961090088, -4.430799961090088, -4.430799961090088, -4.430799961090088, -4.430799961090088, -4.430799961090088, -4.430799961090088, -4.430799961090088, -4.430799961090088, -4.430799961090088, -4.430799961090088, -4.430799961090088, -4.430799961090088, -4.430799961090088, -4.430799961090088, -4.430799961090088, -4.430799961090088, -4.430799961090088, -4.430799961090088, -4.430799961090088, -4.430799961090088, -4.430799961090088, -4.430799961090088, -4.430799961090088, -4.430799961090088, -4.430799961090088, -4.430799961090088, -4.430799961090088, -4.430799961090088, -4.430799961090088, -4.430799961090088, -4.430799961090088, -4.430799961090088, -4.430799961090088, -4.430799961090088, -4.430799961090088, -4.430799961090088, -4.430799961090088, -4.430799961090088, -4.430799961090088, -4.430799961090088, -4.430799961090088, -4.430799961090088, -4.430799961090088, -4.430799961090088, -4.430799961090088, -4.430799961090088, -4.430799961090088, -4.430799961090088, -4.430799961090088, -4.430799961090088, -4.430799961090088, -4.430799961090088, -4.430799961090088, -4.430799961090088, -4.430799961090088, -4.430799961090088, -4.430799961090088, -4.430799961090088, -4.430799961090088, -4.430799961090088, -4.430799961090088, -4.430799961090088, -4.430799961090088, -4.430799961090088, -4.430799961090088, -4.430799961090088, -4.430799961090088, -4.430799961090088, -4.430799961090088, -4.430799961090088, -4.430799961090088, -4.430799961090088, -4.430799961090088, -4.430799961090088, -4.430799961090088, -4.430799961090088, -4.430799961090088, -4.430799961090088, -4.430799961090088, -4.430799961090088, -4.430799961090088, -4.430799961090088, -4.430799961090088, -4.430799961090088, -4.430799961090088, -4.430799961090088, -4.430799961090088, -4.430799961090088, -4.430799961090088, -4.430799961090088, -4.430799961090088, -4.430799961090088, -4.430799961090088, -4.430799961090088, -4.430799961090088, -4.430799961090088, -4.430799961090088, -4.430799961090088, -4.430799961090088, -4.430799961090088, -4.430799961090088, -4.430799961090088, -4.430799961090088, -4.430799961090088, -4.430799961090088, -4.430799961090088, -4.430799961090088, -4.430799961090088, -4.430799961090088, -4.430799961090088, -4.430799961090088, -4.430799961090088, -4.430799961090088, -4.430799961090088, -4.430799961090088, -4.430799961090088, -4.430799961090088, -4.430799961090088, -4.430799961090088, -4.430799961090088, -4.430799961090088, -4.430799961090088, -4.430799961090088, -4.430799961090088, -4.430799961090088, -4.430799961090088, -4.430799961090088, -4.430799961090088, -4.430799961090088, -4.430799961090088, -4.430799961090088, -4.430799961090088, -4.430799961090088, -4.430799961090088, -4.430799961090088]}, \"token.table\": {\"Topic\": [1, 1, 1, 1, 1, 1, 1, 1, 1, 1, 1, 1, 1, 1, 1, 1, 1, 1, 1, 1, 1, 1, 1, 1, 1, 1, 1, 1, 1, 1, 1, 1, 1, 1, 1, 1, 1, 1, 1, 1, 1, 1, 1, 1, 1, 1, 1, 1, 1, 1, 1, 1, 1, 1, 1, 1, 1, 1, 1, 1, 1, 1, 1, 1, 1, 1, 1, 1, 1, 1, 1, 1, 1, 1, 1, 1, 1, 1, 1, 1, 1, 1, 1, 1], \"Freq\": [0.9600456357002258, 0.9600456357002258, 0.9673358798027039, 0.9600455164909363, 0.9600456357002258, 0.9600453972816467, 0.9600453972816467, 0.9600455164909363, 0.9600453972816467, 0.9600453972816467, 0.9600456357002258, 0.9600456357002258, 1.051644206047058, 1.051644206047058, 0.9600455164909363, 0.9600456357002258, 0.9600453972816467, 1.0861895084381104, 0.9600456357002258, 0.9600456357002258, 0.9600455164909363, 0.9600456357002258, 0.9600456357002258, 0.9600455164909363, 0.9600456357002258, 0.9600453972816467, 0.9600456357002258, 0.9600456357002258, 0.9600456357002258, 0.9600456357002258, 0.9600453972816467, 0.9600455164909363, 1.051644206047058, 0.9600453972816467, 0.9600456357002258, 0.9600453972816467, 0.9600453972816467, 1.051643967628479, 1.051643967628479, 0.9600456357002258, 1.0861896276474, 0.9600453972816467, 0.9600456357002258, 0.9600453972816467, 0.9600455164909363, 1.051644206047058, 0.9600453972816467, 0.9600453972816467, 0.9600456357002258, 0.9600453972816467, 1.051643967628479, 0.9600455164909363, 0.9600456357002258, 0.9600456357002258, 1.051644206047058, 0.9600456357002258, 0.9600453972816467, 0.9600456357002258, 0.9600453972816467, 0.9600455164909363, 0.9600455164909363, 0.9600455164909363, 0.9600455164909363, 0.9600453972816467, 0.9600455164909363, 0.9600455164909363, 0.9600456357002258, 0.9600456357002258, 0.9600453972816467, 0.9600456357002258, 0.9600455164909363, 0.9600453972816467, 0.9600455164909363, 1.0861896276474, 1.051644206047058, 1.0861896276474, 0.9600456357002258, 0.9600453972816467, 0.9600453972816467, 0.9600453972816467, 1.051644206047058, 0.9600456357002258, 1.0516443252563477, 0.9600453972816467], \"Term\": [\"bass\", \"batte\", \"battery\", \"begin\", \"blade\", \"board\", \"bottom\", \"bulky\", \"change\", \"charge\", \"circular\", \"control\", \"conversion\", \"cord\", \"cordless\", \"cost\", \"covering\", \"cut\", \"deal\", \"decide\", \"depth\", \"door\", \"drill\", \"ease\", \"expect\", \"extend\", \"extension\", \"find\", \"finish\", \"frame\", \"generation\", \"gun\", \"handle\", \"house\", \"idea\", \"include\", \"life\", \"look\", \"love\", \"lumber\", \"make\", \"metal\", \"money\", \"month\", \"nail\", \"need\", \"offering\", \"one\", \"operate\", \"order\", \"panel\", \"performance\", \"piece\", \"plywood\", \"power\", \"preform\", \"price\", \"pricy\", \"problem\", \"purchase\", \"remodeling\", \"remove\", \"reuse\", \"rubber\", \"save\", \"saw\", \"space\", \"speaker\", \"string\", \"switch\", \"system\", \"take\", \"time\", \"tool\", \"trigger\", \"trim\", \"use\", \"value\", \"volt\", \"wall\", \"want\", \"wood\", \"work\", \"worry\"]}, \"R\": 30, \"lambda.step\": 0.01, \"plot.opts\": {\"xlab\": \"PC1\", \"ylab\": \"PC2\"}, \"topic.order\": [4, 5, 2, 3, 1]};\n",
       "\n",
       "function LDAvis_load_lib(url, callback){\n",
       "  var s = document.createElement('script');\n",
       "  s.src = url;\n",
       "  s.async = true;\n",
       "  s.onreadystatechange = s.onload = callback;\n",
       "  s.onerror = function(){console.warn(\"failed to load library \" + url);};\n",
       "  document.getElementsByTagName(\"head\")[0].appendChild(s);\n",
       "}\n",
       "\n",
       "if(typeof(LDAvis) !== \"undefined\"){\n",
       "   // already loaded: just create the visualization\n",
       "   !function(LDAvis){\n",
       "       new LDAvis(\"#\" + \"ldavis_el334761807219322216762484463\", ldavis_el334761807219322216762484463_data);\n",
       "   }(LDAvis);\n",
       "}else if(typeof define === \"function\" && define.amd){\n",
       "   // require.js is available: use it to load d3/LDAvis\n",
       "   require.config({paths: {d3: \"https://cdnjs.cloudflare.com/ajax/libs/d3/3.5.5/d3.min\"}});\n",
       "   require([\"d3\"], function(d3){\n",
       "      window.d3 = d3;\n",
       "      LDAvis_load_lib(\"https://cdn.rawgit.com/bmabey/pyLDAvis/files/ldavis.v1.0.0.js\", function(){\n",
       "        new LDAvis(\"#\" + \"ldavis_el334761807219322216762484463\", ldavis_el334761807219322216762484463_data);\n",
       "      });\n",
       "    });\n",
       "}else{\n",
       "    // require.js not available: dynamically load d3 & LDAvis\n",
       "    LDAvis_load_lib(\"https://cdnjs.cloudflare.com/ajax/libs/d3/3.5.5/d3.min.js\", function(){\n",
       "         LDAvis_load_lib(\"https://cdn.rawgit.com/bmabey/pyLDAvis/files/ldavis.v1.0.0.js\", function(){\n",
       "                 new LDAvis(\"#\" + \"ldavis_el334761807219322216762484463\", ldavis_el334761807219322216762484463_data);\n",
       "            })\n",
       "         });\n",
       "}\n",
       "</script>"
      ],
      "text/plain": [
       "PreparedData(topic_coordinates=              x    y  topics  cluster       Freq\n",
       "topic                                           \n",
       "3     -0.016385 -0.0       1        1  99.272003\n",
       "4      0.004096  0.0       2        1   0.182000\n",
       "1      0.004096 -0.0       3        1   0.182000\n",
       "2      0.004096 -0.0       4        1   0.182000\n",
       "0      0.004096 -0.0       5        1   0.182000, topic_info=   Category      Freq         Term     Total  loglift  logprob\n",
       "2   Default  6.000000      battery  6.000000  30.0000  30.0000\n",
       "40  Default  2.000000         make  2.000000  29.0000  29.0000\n",
       "75  Default  2.000000         trim  2.000000  28.0000  28.0000\n",
       "73  Default  2.000000         tool  2.000000  27.0000  27.0000\n",
       "17  Default  2.000000          cut  2.000000  26.0000  26.0000\n",
       "12  Default  1.000000   conversion  1.000000  25.0000  25.0000\n",
       "74  Default  1.000000      trigger  1.000000  24.0000  24.0000\n",
       "80  Default  1.000000         want  1.000000  23.0000  23.0000\n",
       "50  Default  1.000000        panel  1.000000  22.0000  22.0000\n",
       "38  Default  1.000000         love  1.000000  21.0000  21.0000\n",
       "82  Default  1.000000         work  1.000000  20.0000  20.0000\n",
       "13  Default  1.000000         cord  1.000000  19.0000  19.0000\n",
       "45  Default  1.000000         need  1.000000  18.0000  18.0000\n",
       "37  Default  1.000000         look  1.000000  17.0000  17.0000\n",
       "32  Default  1.000000       handle  1.000000  16.0000  16.0000\n",
       "54  Default  1.000000        power  1.000000  15.0000  15.0000\n",
       "63  Default  1.000000       rubber  1.000000  14.0000  14.0000\n",
       "47  Default  1.000000          one  1.000000  13.0000  13.0000\n",
       "71  Default  1.000000         take  1.000000  12.0000  12.0000\n",
       "68  Default  1.000000       string  1.000000  11.0000  11.0000\n",
       "30  Default  1.000000   generation  1.000000  10.0000  10.0000\n",
       "62  Default  1.000000        reuse  1.000000   9.0000   9.0000\n",
       "35  Default  1.000000      include  1.000000   8.0000   8.0000\n",
       "28  Default  1.000000       finish  1.000000   7.0000   7.0000\n",
       "46  Default  1.000000     offering  1.000000   6.0000   6.0000\n",
       "83  Default  1.000000        worry  1.000000   5.0000   5.0000\n",
       "25  Default  1.000000       extend  1.000000   4.0000   4.0000\n",
       "23  Default  1.000000         ease  1.000000   3.0000   3.0000\n",
       "22  Default  1.000000        drill  1.000000   2.0000   2.0000\n",
       "58  Default  1.000000      problem  1.000000   1.0000   1.0000\n",
       "..      ...       ...          ...       ...      ...      ...\n",
       "14   Topic5  0.002362     cordless  1.041617   0.2198  -4.4308\n",
       "69   Topic5  0.002362       switch  1.041617   0.2198  -4.4308\n",
       "61   Topic5  0.002362       remove  1.041617   0.2198  -4.4308\n",
       "60   Topic5  0.002362   remodeling  1.041617   0.2198  -4.4308\n",
       "64   Topic5  0.002362         save  1.041617   0.2198  -4.4308\n",
       "79   Topic5  0.002362         wall  1.041617   0.2198  -4.4308\n",
       "7    Topic5  0.002362        bulky  1.041617   0.2198  -4.4308\n",
       "33   Topic5  0.002362        house  1.041617   0.2198  -4.4308\n",
       "8    Topic5  0.002362       change  1.041617   0.2198  -4.4308\n",
       "36   Topic5  0.002362         life  1.041617   0.2198  -4.4308\n",
       "68   Topic5  0.002362       string  1.041617   0.2198  -4.4308\n",
       "78   Topic5  0.002362         volt  1.041617   0.2198  -4.4308\n",
       "5    Topic5  0.002362        board  1.041617   0.2198  -4.4308\n",
       "49   Topic5  0.002362        order  1.041617   0.2198  -4.4308\n",
       "44   Topic5  0.002362         nail  1.041617   0.2198  -4.4308\n",
       "20   Topic5  0.002362        depth  1.041617   0.2198  -4.4308\n",
       "35   Topic5  0.002362      include  1.041617   0.2198  -4.4308\n",
       "3    Topic5  0.002362        begin  1.041617   0.2198  -4.4308\n",
       "51   Topic5  0.002362  performance  1.041617   0.2198  -4.4308\n",
       "56   Topic5  0.002362        price  1.041617   0.2198  -4.4308\n",
       "25   Topic5  0.002362       extend  1.041617   0.2198  -4.4308\n",
       "6    Topic5  0.002362       bottom  1.041617   0.2198  -4.4308\n",
       "41   Topic5  0.002362        metal  1.041617   0.2198  -4.4308\n",
       "43   Topic5  0.002362        month  1.041617   0.2198  -4.4308\n",
       "23   Topic5  0.002362         ease  1.041617   0.2198  -4.4308\n",
       "21   Topic5  0.002362         door  1.041617   0.2198  -4.4308\n",
       "46   Topic5  0.002362     offering  1.041617   0.2198  -4.4308\n",
       "9    Topic5  0.002362       charge  1.041617   0.2198  -4.4308\n",
       "10   Topic5  0.002362     circular  1.041617   0.2198  -4.4308\n",
       "83   Topic5  0.002362        worry  1.041617   0.2198  -4.4308\n",
       "\n",
       "[310 rows x 6 columns], token_table=      Topic      Freq        Term\n",
       "term                             \n",
       "0         1  0.960046        bass\n",
       "1         1  0.960046       batte\n",
       "2         1  0.967336     battery\n",
       "3         1  0.960046       begin\n",
       "4         1  0.960046       blade\n",
       "5         1  0.960045       board\n",
       "6         1  0.960045      bottom\n",
       "7         1  0.960046       bulky\n",
       "8         1  0.960045      change\n",
       "9         1  0.960045      charge\n",
       "10        1  0.960046    circular\n",
       "11        1  0.960046     control\n",
       "12        1  1.051644  conversion\n",
       "13        1  1.051644        cord\n",
       "14        1  0.960046    cordless\n",
       "15        1  0.960046        cost\n",
       "16        1  0.960045    covering\n",
       "17        1  1.086190         cut\n",
       "18        1  0.960046        deal\n",
       "19        1  0.960046      decide\n",
       "20        1  0.960046       depth\n",
       "21        1  0.960046        door\n",
       "22        1  0.960046       drill\n",
       "23        1  0.960046        ease\n",
       "24        1  0.960046      expect\n",
       "25        1  0.960045      extend\n",
       "26        1  0.960046   extension\n",
       "27        1  0.960046        find\n",
       "28        1  0.960046      finish\n",
       "29        1  0.960046       frame\n",
       "...     ...       ...         ...\n",
       "54        1  1.051644       power\n",
       "55        1  0.960046     preform\n",
       "56        1  0.960045       price\n",
       "57        1  0.960046       pricy\n",
       "58        1  0.960045     problem\n",
       "59        1  0.960046    purchase\n",
       "60        1  0.960046  remodeling\n",
       "61        1  0.960046      remove\n",
       "62        1  0.960046       reuse\n",
       "63        1  0.960045      rubber\n",
       "64        1  0.960046        save\n",
       "65        1  0.960046         saw\n",
       "66        1  0.960046       space\n",
       "67        1  0.960046     speaker\n",
       "68        1  0.960045      string\n",
       "69        1  0.960046      switch\n",
       "70        1  0.960046      system\n",
       "71        1  0.960045        take\n",
       "72        1  0.960046        time\n",
       "73        1  1.086190        tool\n",
       "74        1  1.051644     trigger\n",
       "75        1  1.086190        trim\n",
       "76        1  0.960046         use\n",
       "77        1  0.960045       value\n",
       "78        1  0.960045        volt\n",
       "79        1  0.960045        wall\n",
       "80        1  1.051644        want\n",
       "81        1  0.960046        wood\n",
       "82        1  1.051644        work\n",
       "83        1  0.960045       worry\n",
       "\n",
       "[84 rows x 3 columns], R=30, lambda_step=0.01, plot_opts={'xlab': 'PC1', 'ylab': 'PC2'}, topic_order=[4, 5, 2, 3, 1])"
      ]
     },
     "execution_count": 30,
     "metadata": {},
     "output_type": "execute_result"
    }
   ],
   "source": [
    "# Visualize the topics\n",
    "pyLDAvis.enable_notebook()\n",
    "vis = pyLDAvis.gensim.prepare(lda_model, doc_term_matrix, dictionary)\n",
    "vis"
   ]
  },
  {
   "cell_type": "code",
   "execution_count": 39,
   "metadata": {},
   "outputs": [],
   "source": [
    "#import modules\n",
    "import os.path\n",
    "from gensim import corpora\n",
    "from gensim.models import LsiModel\n",
    "from nltk.tokenize import RegexpTokenizer\n",
    "from nltk.corpus import stopwords\n",
    "from nltk.stem.porter import PorterStemmer\n",
    "from gensim.models.coherencemodel import CoherenceModel\n",
    "import matplotlib.pyplot as plt\n",
    "\n",
    "# functions\n",
    "def prepare_corpus(doc_clean):\n",
    "    \"\"\"\n",
    "    Input  : clean document\n",
    "    Purpose: create term dictionary of our courpus and Converting list of documents (corpus) into Document Term Matrix\n",
    "    Output : term dictionary and Document Term Matrix\n",
    "    \"\"\"\n",
    "    # Creating the term dictionary of our courpus, where every unique term is assigned an index. dictionary = corpora.Dictionary(doc_clean)\n",
    "    dictionary = corpora.Dictionary(doc_clean)\n",
    "    # Converting list of documents (corpus) into Document Term Matrix using dictionary prepared above.\n",
    "    doc_term_matrix = [dictionary.doc2bow(doc) for doc in doc_clean]\n",
    "    # generate LDA model\n",
    "    return dictionary,doc_term_matrix\n",
    "\n",
    "# function for creating lsa model\n",
    "def create_gensim_lsa_model(doc_clean,number_of_topics,words):\n",
    "    \"\"\"\n",
    "    Input  : clean document, number of topics and number of words associated with each topic\n",
    "    Purpose: create LSA model using gensim\n",
    "    Output : return LSA model\n",
    "    \"\"\"\n",
    "    dictionary,doc_term_matrix=prepare_corpus(doc_clean)\n",
    "    # generate LSA model\n",
    "    lsamodel = LsiModel(doc_term_matrix, num_topics=number_of_topics, id2word = dictionary)  # train model\n",
    "    print(lsamodel.print_topics(num_topics=number_of_topics, num_words=words))\n",
    "    return lsamodel\n",
    "\n",
    "# function for computing coherence values\n",
    "def compute_coherence_values(dictionary, doc_term_matrix, doc_clean, stop, start=2, step=3):\n",
    "    \"\"\"\n",
    "    Input   : dictionary : Gensim dictionary\n",
    "              corpus : Gensim corpus\n",
    "              texts : List of input texts\n",
    "              stop : Max num of topics\n",
    "    purpose : Compute c_v coherence for various number of topics\n",
    "    Output  : model_list : List of LSA topic models\n",
    "              coherence_values : Coherence values corresponding to the LDA model with respective number of topics\n",
    "    \"\"\"\n",
    "    coherence_values = []\n",
    "    model_list = []\n",
    "    for num_topics in range(start, stop, step):\n",
    "        # generate LSA model\n",
    "        model = LsiModel(doc_term_matrix, num_topics=num_topics, id2word = dictionary)  # train model\n",
    "        model_list.append(model)\n",
    "        coherencemodel = CoherenceModel(model=model, texts=doc_clean, dictionary=dictionary, coherence='c_v')\n",
    "        coherence_values.append(coherencemodel.get_coherence())\n",
    "    return model_list, coherence_values\n",
    "\n",
    "# function for ploting coherence value\n",
    "def plot_graph(doc_clean,start, stop, step):\n",
    "    dictionary,doc_term_matrix=prepare_corpus(doc_clean)\n",
    "    model_list, coherence_values = compute_coherence_values(dictionary, doc_term_matrix,doc_clean,\n",
    "                                                            stop, start, step)\n",
    "    # Show graph\n",
    "    x = range(start, stop, step)\n",
    "    plt.plot(x, coherence_values)\n",
    "    plt.xlabel(\"Number of Topics\")\n",
    "    plt.ylabel(\"Coherence score\")\n",
    "    plt.legend((\"coherence_values\"), loc='best')\n",
    "    plt.show()"
   ]
  },
  {
   "cell_type": "code",
   "execution_count": 40,
   "metadata": {},
   "outputs": [
    {
     "data": {
      "image/png": "[encoded data removed]",
      "text/plain": [
       "<Figure size 432x288 with 1 Axes>"
      ]
     },
     "metadata": {
      "needs_background": "light"
     },
     "output_type": "display_data"
    }
   ],
   "source": [
    "# plot the coherence plot \n",
    "start,stop,step=2,12,1\n",
    "plot_graph(reviews_2,start,stop,step)"
   ]
  },
  {
   "cell_type": "code",
   "execution_count": 41,
   "metadata": {},
   "outputs": [
    {
     "name": "stdout",
     "output_type": "stream",
     "text": [
      "[(0, '0.611*\"battery\" + 0.339*\"tool\" + 0.272*\"blade\" + 0.204*\"buy\" + 0.204*\"cut\" + 0.136*\"18v\" + 0.136*\"circular\" + 0.136*\"include\" + 0.136*\"saw\" + 0.136*\"think\"'), (1, '-0.500*\"product\" + -0.500*\"improvement\" + -0.500*\"handle\" + -0.498*\"need\" + 0.021*\"battery\" + 0.012*\"tool\" + 0.009*\"blade\" + 0.007*\"cut\" + 0.007*\"buy\" + 0.005*\"include\"')]\n"
     ]
    }
   ],
   "source": [
    "# train the model \n",
    "number_of_topics=3\n",
    "words=10\n",
    "clean_text = reviews_2\n",
    "model=create_gensim_lsa_model(clean_text,number_of_topics,words)"
   ]
  },
  {
   "cell_type": "code",
   "execution_count": 42,
   "metadata": {},
   "outputs": [
    {
     "data": {
      "text/plain": [
       "[(0,\n",
       "  '0.611*\"battery\" + 0.339*\"tool\" + 0.272*\"blade\" + 0.204*\"buy\" + 0.204*\"cut\" + 0.136*\"18v\" + 0.136*\"circular\" + 0.136*\"include\" + 0.136*\"saw\" + 0.136*\"think\"'),\n",
       " (1,\n",
       "  '-0.500*\"product\" + -0.500*\"improvement\" + -0.500*\"handle\" + -0.498*\"need\" + 0.021*\"battery\" + 0.012*\"tool\" + 0.009*\"blade\" + 0.007*\"cut\" + 0.007*\"buy\" + 0.005*\"include\"')]"
      ]
     },
     "execution_count": 42,
     "metadata": {},
     "output_type": "execute_result"
    }
   ],
   "source": [
    "# print topics \n",
    "model.print_topics()"
   ]
  },
  {
   "cell_type": "code",
   "execution_count": null,
   "metadata": {},
   "outputs": [],
   "source": []
  },
  {
   "cell_type": "code",
   "execution_count": null,
   "metadata": {},
   "outputs": [],
   "source": []
  },
  {
   "cell_type": "code",
   "execution_count": null,
   "metadata": {},
   "outputs": [],
   "source": []
  }
 ],
 "metadata": {
  "kernelspec": {
   "display_name": "Python 3",
   "language": "python",
   "name": "python3"
  },
  "language_info": {
   "codemirror_mode": {
    "name": "ipython",
    "version": 3
   },
   "file_extension": ".py",
   "mimetype": "text/x-python",
   "name": "python",
   "nbconvert_exporter": "python",
   "pygments_lexer": "ipython3",
   "version": "3.7.3"
  }
 },
 "nbformat": 4,
 "nbformat_minor": 2
}
